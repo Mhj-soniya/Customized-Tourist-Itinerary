{
 "cells": [
  {
   "cell_type": "code",
   "execution_count": 2,
   "id": "8f3d226c",
   "metadata": {},
   "outputs": [],
   "source": [
    "import numpy as np\n",
    "import random\n",
    "from numpy.random import randint\n",
    "from random import random as rnd"
   ]
  },
  {
   "cell_type": "code",
   "execution_count": 3,
   "id": "d1fa4abe",
   "metadata": {},
   "outputs": [],
   "source": [
    "import datetime\n",
    "from datetime import datetime\n",
    "from datetime import time, timedelta"
   ]
  },
  {
   "cell_type": "code",
   "execution_count": 4,
   "id": "a40a3211",
   "metadata": {},
   "outputs": [],
   "source": [
    "POIs = [\"Pashupatinath Temple\", \"Boudhanath (Stupa)\", \"Swayambhunath Stupa\", \"Tribhuvan Museum\",\"Dakshinkali Temple\", \"Narayanhiti Palace\", \"Garden of Dreams\"]"
   ]
  },
  {
   "cell_type": "code",
   "execution_count": 5,
   "id": "2e47eaf6",
   "metadata": {},
   "outputs": [],
   "source": [
    "def encode(POIs):\n",
    "    encoded_POI = []\n",
    "    for index, POI in enumerate(POIs):\n",
    "        encoded_POI.append(index)\n",
    "    return encoded_POI"
   ]
  },
  {
   "cell_type": "code",
   "execution_count": 6,
   "id": "0b939fb3",
   "metadata": {},
   "outputs": [],
   "source": [
    "encoded_POI = encode(POIs)"
   ]
  },
  {
   "cell_type": "code",
   "execution_count": 7,
   "id": "deaa0c15",
   "metadata": {},
   "outputs": [],
   "source": [
    "class Individual:\n",
    "    #Individual generation\n",
    "    def generate_individual(self, POIs):\n",
    "        return random.sample(POIs, len(POIs))\n",
    "    \n",
    "    def population(self, population_size, POIs):\n",
    "        return [self.generate_individual(POIs) for x in range(population_size)]\n",
    "            "
   ]
  },
  {
   "cell_type": "code",
   "execution_count": 8,
   "id": "d9bf7ef8",
   "metadata": {},
   "outputs": [],
   "source": [
    "def Roulette_wheel_selection(fitness_score):\n",
    "    Pc = [] #probability of selecting a chromosome\n",
    "    sum_of_fitness = np.sum(fitness_score)\n",
    "    for i in fitness_score:\n",
    "        Pc.append(i/sum_of_fitness)\n",
    "#     print(Pc)\n",
    "    return Pc"
   ]
  },
  {
   "cell_type": "code",
   "execution_count": 9,
   "id": "523bea7c",
   "metadata": {},
   "outputs": [],
   "source": [
    "path_fitness_pair = {} #for global access\n",
    "def dict_pair(population, fitness_score):\n",
    "    for i in range(len(population)):\n",
    "        path_fitness_pair[i] = fitness_score[i]\n",
    "    return path_fitness_pair"
   ]
  },
  {
   "cell_type": "code",
   "execution_count": 10,
   "id": "68e6ace0",
   "metadata": {},
   "outputs": [
    {
     "name": "stdout",
     "output_type": "stream",
     "text": [
      "{}\n"
     ]
    }
   ],
   "source": [
    "print(path_fitness_pair)"
   ]
  },
  {
   "cell_type": "code",
   "execution_count": 11,
   "id": "af25ce8b",
   "metadata": {},
   "outputs": [],
   "source": [
    "def rank_selected(selected_population):#fitness score of selected population\n",
    "    key = []\n",
    "    for i in selected_population:\n",
    "        index = population.index(i)\n",
    "        key.append(index)\n",
    "    #fittest pairing => pairing the selected parents\n",
    "    #sorting dict by value\n",
    "    mylist = [path_fitness_pair[i] for i in key] #fitness score of selected parents\n",
    "    # print(mylist)\n",
    "    mylist.sort()#ascending order\n",
    "    # print(mylist)\n",
    "    mylist = mylist[::-1] # reverse ordering list , descending order\n",
    "    # print(mylist)\n",
    "    path_index = [list(path_fitness_pair.values()).index(i) for i in mylist]\n",
    "    return path_index"
   ]
  },
  {
   "cell_type": "code",
   "execution_count": 12,
   "id": "2c8f0024",
   "metadata": {},
   "outputs": [],
   "source": [
    "from time_period import get_time"
   ]
  },
  {
   "cell_type": "code",
   "execution_count": 13,
   "id": "770a61e9",
   "metadata": {},
   "outputs": [
    {
     "name": "stdout",
     "output_type": "stream",
     "text": [
      "10:00:00\n",
      "17:00:00\n",
      "00:00:00\n",
      "23:59:00\n",
      "00:00:00\n",
      "23:59:00\n",
      "10:00:00\n",
      "17:00:00\n",
      "00:00:00\n",
      "23:59:00\n",
      "10:00:00\n",
      "15:30:00\n",
      "09:00:00\n",
      "18:30:00\n"
     ]
    }
   ],
   "source": [
    "opening_time, closing_time = get_time(POIs, 'Monday')"
   ]
  },
  {
   "cell_type": "code",
   "execution_count": 14,
   "id": "c01247d5",
   "metadata": {},
   "outputs": [
    {
     "name": "stdout",
     "output_type": "stream",
     "text": [
      "[datetime.time(10, 0), datetime.time(0, 0), datetime.time(0, 0), datetime.time(10, 0), datetime.time(0, 0), datetime.time(10, 0), datetime.time(9, 0)] [datetime.time(17, 0), datetime.time(23, 59), datetime.time(23, 59), datetime.time(17, 0), datetime.time(23, 59), datetime.time(15, 30), datetime.time(18, 30)]\n"
     ]
    }
   ],
   "source": [
    "print(opening_time, closing_time)"
   ]
  },
  {
   "cell_type": "code",
   "execution_count": 30,
   "id": "faa04e1c",
   "metadata": {},
   "outputs": [],
   "source": [
    "stay_time = [7200, 7200, 7200, 7200, 7200, 7200, 7200] # 2hrs stay in each poi"
   ]
  },
  {
   "cell_type": "code",
   "execution_count": 17,
   "id": "8e326bf7",
   "metadata": {},
   "outputs": [],
   "source": [
    "from get_time_matrix import get_time_matrix"
   ]
  },
  {
   "cell_type": "code",
   "execution_count": 18,
   "id": "19f3b9bf",
   "metadata": {},
   "outputs": [],
   "source": [
    "distance_time = get_time_matrix(POIs)"
   ]
  },
  {
   "cell_type": "code",
   "execution_count": 19,
   "id": "47dda97e",
   "metadata": {},
   "outputs": [
    {
     "data": {
      "text/plain": [
       "[[60, 660, 1620, 1260, 3240, 840, 780],\n",
       " [660, 60, 1920, 1620, 3600, 1140, 1080],\n",
       " [1620, 1860, 60, 1020, 2820, 1020, 960],\n",
       " [1140, 1500, 1020, 60, 2580, 660, 540],\n",
       " [3480, 3840, 2940, 2760, 60, 3060, 2940],\n",
       " [720, 1080, 1080, 840, 2940, 60, 180],\n",
       " [720, 1080, 900, 720, 2820, 180, 60]]"
      ]
     },
     "execution_count": 19,
     "metadata": {},
     "output_type": "execute_result"
    }
   ],
   "source": [
    "distance_time"
   ]
  },
  {
   "cell_type": "code",
   "execution_count": 20,
   "id": "8881254b",
   "metadata": {},
   "outputs": [],
   "source": [
    "def waiting_cost(starting_time,i, d = 3600):\n",
    "    arrival_time = (datetime.combine(datetime.today(),(starting_time))+ timedelta(seconds=d)).time()\n",
    "    opening = datetime.combine(datetime.today(),(opening_time[i]))\n",
    "    waiting_time = opening-(datetime.combine(datetime.today(),(starting_time))+ timedelta(seconds=d))\n",
    "    next_time = (datetime.combine(datetime.today(),starting_time)+ timedelta(seconds=d))+timedelta(seconds = stay_time[i])\n",
    "#     print(stay_time[i])\n",
    "#     print(next_time.time())\n",
    "    return max(waiting_time.total_seconds(), 0), next_time.time(), arrival_time"
   ]
  },
  {
   "cell_type": "code",
   "execution_count": 21,
   "id": "20f2058a",
   "metadata": {},
   "outputs": [],
   "source": [
    "def delay_cost(leaving_time,i, d = 3600):\n",
    "    closing = datetime.combine(datetime.today(),(closing_time[i]))\n",
    "    delay_time = (datetime.combine(datetime.today(),(leaving_time))+ timedelta(seconds=d))-closing\n",
    "    return max(delay_time.total_seconds(), 0)"
   ]
  },
  {
   "cell_type": "code",
   "execution_count": 22,
   "id": "ca736783",
   "metadata": {},
   "outputs": [],
   "source": [
    "#Partially Mapped Crossover\n",
    "def PMX(offspring1, offspring2, temp1):\n",
    "    for i in range(len(offspring1)):\n",
    "        if i < 2 or i>=4: #change the points here\n",
    "#             print('index',i)\n",
    "            if temp1[i] not in offspring1:\n",
    "                offspring1[i] = temp1[i]\n",
    "#                 print(offspring1[i])\n",
    "            else:\n",
    "#                 print(temp1[i] in offspring1[2:4])\n",
    "                while temp1[i] in offspring1[2:4]:\n",
    "                    index = offspring1.index(temp1[i])\n",
    "                    temp1[i] = offspring2[index]\n",
    "                offspring1[i] = temp1[i]\n",
    "#                 print(offspring1[i])"
   ]
  },
  {
   "cell_type": "code",
   "execution_count": 33,
   "id": "3ce88fc3",
   "metadata": {},
   "outputs": [],
   "source": [
    "class GA:\n",
    "    def __init__(self, population):\n",
    "        self.population = population\n",
    "        \n",
    "    def fitness_evaluation(self, path):\n",
    "        count = 0\n",
    "        fitness_value = 0\n",
    "        current_time = time(10,0)\n",
    "        for i in path:\n",
    "#             print('path',i)\n",
    "            if count >= 1:\n",
    "                cost, current_time, arrival_time = waiting_cost(current_time, i, distance_time[j][i])\n",
    "                delay = delay_cost(current_time, i)\n",
    "                fitness_value += distance_time[j][i] + cost + delay# distance consideration\n",
    "    #             print(fitness_value)\n",
    "#             print('fitness value', fitness_value/3600)\n",
    "            j = i\n",
    "            count += 1\n",
    "            fitness_score = fitness_value/3600\n",
    "        return 1/fitness_score\n",
    "    \n",
    "    #Choose a random number for making it act like a pointer in the wheel\n",
    "    def selection(self, fitness_score):\n",
    "        selected = []\n",
    "        for x in range(len(self.population)//2): #50% selected\n",
    "            pointer = rnd()\n",
    "            prob = 0\n",
    "#             print(pointer)\n",
    "            path_fitness_pair = dict_pair(self.population, fitness_score)\n",
    "            for index, i in enumerate(Roulette_wheel_selection(fitness_score)):#roulette wheel\n",
    "                prob += i #can take out cumulative sum instead see this............\n",
    "                if prob > pointer:\n",
    "#                     print(index)\n",
    "                    selected.append(self.population[index])\n",
    "#                     print('fitness_score',path_fitness_pair[index])\n",
    "                    break\n",
    "#             print(selected)\n",
    "        return selected  \n",
    "    \n",
    "    #fittest pairing\n",
    "    def pairing(self, selected_population):\n",
    "        parents = [[selected_population[x],selected_population[x+1]] for x in range(len(selected_population)-1)]\n",
    "        return parents\n",
    "    \n",
    "    #crossover\n",
    "    #two point crossover\n",
    "    def two_point_crossover(self, parent1, parent2):\n",
    "    #     pivot_point1 = randint(1, len(selected)-1)\n",
    "    #     pivot_point2 = randint(1, len(selected))\n",
    "    #     while(pivot_point2 <= pivot_point1):\n",
    "    #         pivot_point2 = randint(1, len(selected))\n",
    "    #     print(pivot_point1, pivot_point2)\n",
    "    #     print(parent1, parent2)\n",
    "\n",
    "        offspring1 = [-1]*len(parent1)\n",
    "        offspring2 = [-1]*len(parent1)\n",
    "        offspring1[2:4] = parent2[2:4]\n",
    "        offspring2[2:4] = parent1[2:4]\n",
    "\n",
    "    #     print(parent1, parent2)\n",
    "        temp1 = parent1.copy()\n",
    "        temp2 = parent2.copy() #copy garena bhane parent ma ni modification aauxa but why???\n",
    "\n",
    "    #     print(offspring1)\n",
    "        PMX(offspring1, offspring2, temp1)\n",
    "        PMX(offspring2, offspring1, temp2)\n",
    "\n",
    "        return [offspring1, offspring2]\n",
    "    #     return offspring1, offspring2 =>list of tuples of list\n",
    "    #     print(parent1, parent2)\n",
    "    \n",
    "    #Scramble mutation : choose two points then bichko genes lai shuffle garne\n",
    "    def individual_for_mutation(self, mutation_rate = 0.1):\n",
    "        individual_to_mutate = []\n",
    "        for x in range(round(len(self.population)*mutation_rate)):\n",
    "            individual_to_mutate.append(self.population[randint(0, len(self.population)-1)])\n",
    "        return individual_to_mutate\n",
    "    \n",
    "    def scramble_mutation(self, individual):\n",
    "        p1 = randint(0, len(individual)-1)\n",
    "        p2 = randint(0, len(individual))\n",
    "        while p1 >= p2:\n",
    "            p2 = randint(0, len(individual))\n",
    "        c2 = individual[p1:p2]\n",
    "        random.shuffle(c2)\n",
    "        for i in c2:\n",
    "            individual[p1] = i\n",
    "            p1 +=1\n",
    "        return individual"
   ]
  },
  {
   "cell_type": "code",
   "execution_count": 34,
   "id": "fc8c044b",
   "metadata": {},
   "outputs": [],
   "source": [
    "def best_solution(populaiton, fitness_score):\n",
    "    best_fittest = np.max(fitness_score)\n",
    "    index = fitness_score.index(best_fittest)\n",
    "    best_individual = population[index]\n",
    "    return best_fittest, best_individual"
   ]
  },
  {
   "cell_type": "code",
   "execution_count": 35,
   "id": "e8b08a05",
   "metadata": {},
   "outputs": [],
   "source": [
    "i = Individual()\n",
    "initial_population = i.population(20, encoded_POI)"
   ]
  },
  {
   "cell_type": "code",
   "execution_count": 36,
   "id": "3ef9ef5d",
   "metadata": {},
   "outputs": [],
   "source": [
    "population = initial_population"
   ]
  },
  {
   "cell_type": "code",
   "execution_count": 37,
   "id": "47d594d4",
   "metadata": {},
   "outputs": [],
   "source": [
    "def run(population):\n",
    "    g = GA(population)\n",
    "    fitness_score = [g.fitness_evaluation(individual) for individual in population]\n",
    "    best_fittest, best_individual = best_solution(population, fitness_score)\n",
    "    selected = g.selection(fitness_score)\n",
    "#     print(selected)\n",
    "    path_index = rank_selected(selected)\n",
    "#     print(path_index)\n",
    "    paired_parents = g.pairing(selected)\n",
    "#     print(paired_parents)\n",
    "    offsprings = []\n",
    "    for i in paired_parents:\n",
    "        offsprings.append(g.two_point_crossover(i[0], i[1]))\n",
    "#     print(offsprings)\n",
    "    next_population = []\n",
    "    for i in offsprings:\n",
    "        next_population.extend(i)\n",
    "#     print('nextpopulation',next_population)\n",
    "    individual_to_mutate = g.individual_for_mutation()\n",
    "#     print('individual_to_mutate',individual_to_mutate)\n",
    "    for x in individual_to_mutate:\n",
    "        next_population.append(g.scramble_mutation(x))\n",
    "#     print('nextpopulation',next_population)\n",
    "#     initial_population = next_population\n",
    "    return best_fittest, best_individual, next_population"
   ]
  },
  {
   "cell_type": "code",
   "execution_count": 38,
   "id": "f51618e2",
   "metadata": {},
   "outputs": [
    {
     "name": "stdout",
     "output_type": "stream",
     "text": [
      "Generation 0 : Best Fittest: 0.3243243243243243  Best Individual: [5, 0, 3, 4, 6, 1, 2]\n",
      "Generation 1 : Best Fittest: 0.3076923076923077  Best Individual: [0, 4, 3, 6, 1, 2, 5]\n",
      "Generation 2 : Best Fittest: 0.3314917127071823  Best Individual: [0, 6, 3, 4, 1, 2, 5]\n",
      "Generation 3 : Best Fittest: 0.35714285714285715  Best Individual: [5, 0, 3, 6, 2, 4, 1]\n",
      "Generation 4 : Best Fittest: 0.35714285714285715  Best Individual: [5, 0, 3, 6, 2, 4, 1]\n",
      "Generation 5 : Best Fittest: 0.3278688524590164  Best Individual: [0, 2, 3, 6, 4, 1, 5]\n",
      "Generation 6 : Best Fittest: 0.3278688524590164  Best Individual: [0, 2, 3, 6, 4, 1, 5]\n",
      "Generation 7 : Best Fittest: 0.3488372093023256  Best Individual: [0, 6, 3, 2, 4, 1, 5]\n",
      "Generation 8 : Best Fittest: 0.3278688524590164  Best Individual: [0, 2, 3, 6, 4, 1, 5]\n",
      "Generation 9 : Best Fittest: 0.4054054054054054  Best Individual: [5, 0, 3, 6, 2, 1, 4]\n",
      "Generation 10 : Best Fittest: 0.4054054054054054  Best Individual: [5, 0, 3, 6, 2, 1, 4]\n",
      "Generation 11 : Best Fittest: 0.4054054054054054  Best Individual: [5, 0, 3, 6, 2, 1, 4]\n",
      "Generation 12 : Best Fittest: 0.4054054054054054  Best Individual: [5, 0, 3, 6, 2, 1, 4]\n",
      "Generation 13 : Best Fittest: 0.4054054054054054  Best Individual: [5, 0, 3, 6, 2, 1, 4]\n",
      "Generation 14 : Best Fittest: 0.4054054054054054  Best Individual: [5, 0, 3, 6, 2, 1, 4]\n",
      "Generation 15 : Best Fittest: 0.4054054054054054  Best Individual: [5, 0, 3, 6, 2, 1, 4]\n",
      "Generation 16 : Best Fittest: 0.4054054054054054  Best Individual: [5, 0, 3, 6, 2, 1, 4]\n",
      "Generation 17 : Best Fittest: 0.4054054054054054  Best Individual: [5, 0, 3, 6, 2, 1, 4]\n",
      "Generation 18 : Best Fittest: 0.4054054054054054  Best Individual: [5, 0, 3, 6, 2, 1, 4]\n",
      "Generation 19 : Best Fittest: 0.4054054054054054  Best Individual: [5, 0, 3, 6, 2, 1, 4]\n",
      "Generation 20 : Best Fittest: 0.4054054054054054  Best Individual: [5, 0, 3, 6, 2, 1, 4]\n",
      "Generation 21 : Best Fittest: 0.4054054054054054  Best Individual: [5, 0, 3, 6, 2, 1, 4]\n",
      "Generation 22 : Best Fittest: 0.4054054054054054  Best Individual: [5, 0, 3, 6, 2, 1, 4]\n",
      "Generation 23 : Best Fittest: 0.4054054054054054  Best Individual: [5, 0, 3, 6, 2, 1, 4]\n",
      "Generation 24 : Best Fittest: 0.4054054054054054  Best Individual: [5, 0, 3, 6, 2, 1, 4]\n",
      "Generation 25 : Best Fittest: 0.4054054054054054  Best Individual: [5, 0, 3, 6, 2, 1, 4]\n",
      "Generation 26 : Best Fittest: 0.4054054054054054  Best Individual: [5, 0, 3, 6, 2, 1, 4]\n",
      "Generation 27 : Best Fittest: 0.4054054054054054  Best Individual: [5, 0, 3, 6, 2, 1, 4]\n",
      "Generation 28 : Best Fittest: 0.4054054054054054  Best Individual: [5, 0, 3, 6, 2, 1, 4]\n",
      "Generation 29 : Best Fittest: 0.4195804195804196  Best Individual: [0, 5, 3, 6, 2, 1, 4]\n",
      "Generation 30 : Best Fittest: 0.4054054054054054  Best Individual: [5, 0, 3, 6, 2, 1, 4]\n",
      "Generation 31 : Best Fittest: 0.4054054054054054  Best Individual: [5, 0, 3, 6, 2, 1, 4]\n",
      "Generation 32 : Best Fittest: 0.4054054054054054  Best Individual: [5, 0, 3, 6, 2, 1, 4]\n",
      "Generation 33 : Best Fittest: 0.44776119402985076  Best Individual: [0, 5, 3, 6, 1, 2, 4]\n",
      "Generation 34 : Best Fittest: 0.44776119402985076  Best Individual: [0, 5, 3, 6, 1, 2, 4]\n",
      "Generation 35 : Best Fittest: 0.4054054054054054  Best Individual: [5, 0, 3, 6, 2, 1, 4]\n",
      "Generation 36 : Best Fittest: 0.4137931034482759  Best Individual: [3, 0, 5, 6, 2, 1, 4]\n",
      "Generation 37 : Best Fittest: 0.4137931034482759  Best Individual: [5, 3, 2, 6, 0, 1, 4]\n",
      "Generation 38 : Best Fittest: 0.4316546762589928  Best Individual: [5, 0, 3, 6, 1, 2, 4]\n",
      "Generation 39 : Best Fittest: 0.4137931034482759  Best Individual: [3, 0, 5, 6, 2, 1, 4]\n",
      "Generation 40 : Best Fittest: 0.4137931034482759  Best Individual: [3, 0, 5, 6, 2, 1, 4]\n",
      "Generation 41 : Best Fittest: 0.4137931034482759  Best Individual: [3, 0, 5, 6, 2, 1, 4]\n",
      "Generation 42 : Best Fittest: 0.4137931034482759  Best Individual: [3, 0, 5, 6, 2, 1, 4]\n",
      "Generation 43 : Best Fittest: 0.4137931034482759  Best Individual: [3, 0, 5, 6, 2, 1, 4]\n",
      "Generation 44 : Best Fittest: 0.4137931034482759  Best Individual: [3, 0, 5, 6, 2, 1, 4]\n",
      "Generation 45 : Best Fittest: 0.4137931034482759  Best Individual: [3, 0, 5, 6, 2, 1, 4]\n",
      "Generation 46 : Best Fittest: 0.4137931034482759  Best Individual: [3, 0, 5, 6, 2, 1, 4]\n",
      "Generation 47 : Best Fittest: 0.4411764705882353  Best Individual: [3, 0, 5, 6, 1, 2, 4]\n",
      "Generation 48 : Best Fittest: 0.4411764705882353  Best Individual: [3, 0, 5, 6, 1, 2, 4]\n",
      "Generation 49 : Best Fittest: 0.4411764705882353  Best Individual: [3, 0, 5, 6, 1, 2, 4]\n",
      "Generation 50 : Best Fittest: 0.4411764705882353  Best Individual: [3, 0, 5, 6, 1, 2, 4]\n",
      "Generation 51 : Best Fittest: 0.4411764705882353  Best Individual: [3, 0, 5, 6, 1, 2, 4]\n",
      "Generation 52 : Best Fittest: 0.4411764705882353  Best Individual: [3, 0, 5, 6, 1, 2, 4]\n",
      "Generation 53 : Best Fittest: 0.4411764705882353  Best Individual: [3, 0, 5, 6, 1, 2, 4]\n",
      "Generation 54 : Best Fittest: 0.4411764705882353  Best Individual: [3, 0, 5, 6, 1, 2, 4]\n",
      "Generation 55 : Best Fittest: 0.4411764705882353  Best Individual: [3, 0, 5, 6, 1, 2, 4]\n",
      "Generation 56 : Best Fittest: 0.4411764705882353  Best Individual: [3, 0, 5, 6, 1, 2, 4]\n",
      "Generation 57 : Best Fittest: 0.4411764705882353  Best Individual: [3, 0, 5, 6, 1, 2, 4]\n",
      "Generation 58 : Best Fittest: 0.45112781954887216  Best Individual: [3, 5, 0, 6, 1, 2, 4]\n",
      "Generation 59 : Best Fittest: 0.4411764705882353  Best Individual: [3, 0, 5, 6, 1, 2, 4]\n",
      "Generation 60 : Best Fittest: 0.44776119402985076  Best Individual: [0, 3, 5, 6, 1, 2, 4]\n",
      "Generation 61 : Best Fittest: 0.44776119402985076  Best Individual: [0, 3, 5, 6, 1, 2, 4]\n",
      "Generation 62 : Best Fittest: 0.44776119402985076  Best Individual: [0, 3, 5, 6, 1, 2, 4]\n",
      "Generation 63 : Best Fittest: 0.44776119402985076  Best Individual: [0, 3, 5, 6, 1, 2, 4]\n",
      "Generation 64 : Best Fittest: 0.44776119402985076  Best Individual: [0, 3, 5, 6, 1, 2, 4]\n",
      "Generation 65 : Best Fittest: 0.44776119402985076  Best Individual: [0, 3, 5, 6, 1, 2, 4]\n",
      "Generation 66 : Best Fittest: 0.44776119402985076  Best Individual: [0, 3, 5, 6, 1, 2, 4]\n",
      "Generation 67 : Best Fittest: 0.44776119402985076  Best Individual: [0, 3, 5, 6, 1, 2, 4]\n",
      "Generation 68 : Best Fittest: 0.44776119402985076  Best Individual: [0, 3, 5, 6, 1, 2, 4]\n",
      "Generation 69 : Best Fittest: 0.44776119402985076  Best Individual: [0, 3, 5, 6, 1, 2, 4]\n",
      "Generation 70 : Best Fittest: 0.44776119402985076  Best Individual: [0, 3, 5, 6, 1, 2, 4]\n",
      "Generation 71 : Best Fittest: 0.44776119402985076  Best Individual: [0, 3, 5, 6, 1, 2, 4]\n",
      "Generation 72 : Best Fittest: 0.44776119402985076  Best Individual: [0, 3, 5, 6, 1, 2, 4]\n",
      "Generation 73 : Best Fittest: 0.44776119402985076  Best Individual: [0, 3, 5, 6, 1, 2, 4]\n",
      "Generation 74 : Best Fittest: 0.44776119402985076  Best Individual: [0, 3, 5, 6, 1, 2, 4]\n",
      "Generation 75 : Best Fittest: 0.44776119402985076  Best Individual: [0, 3, 5, 6, 1, 2, 4]\n",
      "Generation 76 : Best Fittest: 0.44776119402985076  Best Individual: [0, 3, 5, 6, 1, 2, 4]\n",
      "Generation 77 : Best Fittest: 0.44776119402985076  Best Individual: [0, 3, 5, 6, 1, 2, 4]\n",
      "Generation 78 : Best Fittest: 0.45112781954887216  Best Individual: [3, 5, 0, 6, 1, 2, 4]\n",
      "Generation 79 : Best Fittest: 0.44776119402985076  Best Individual: [0, 3, 5, 6, 1, 2, 4]\n",
      "Generation 80 : Best Fittest: 0.44776119402985076  Best Individual: [0, 3, 5, 6, 1, 2, 4]\n",
      "Generation 81 : Best Fittest: 0.44776119402985076  Best Individual: [0, 3, 5, 6, 1, 2, 4]\n",
      "Generation 82 : Best Fittest: 0.44776119402985076  Best Individual: [0, 3, 5, 6, 1, 2, 4]\n",
      "Generation 83 : Best Fittest: 0.44776119402985076  Best Individual: [0, 3, 5, 6, 1, 2, 4]\n",
      "Generation 84 : Best Fittest: 0.44776119402985076  Best Individual: [0, 3, 5, 6, 1, 2, 4]\n",
      "Generation 85 : Best Fittest: 0.44776119402985076  Best Individual: [0, 3, 5, 6, 1, 2, 4]\n",
      "Generation 86 : Best Fittest: 0.44776119402985076  Best Individual: [0, 3, 6, 5, 1, 2, 4]\n",
      "Generation 87 : Best Fittest: 0.44776119402985076  Best Individual: [0, 3, 5, 6, 1, 2, 4]\n",
      "Generation 88 : Best Fittest: 0.44776119402985076  Best Individual: [0, 3, 5, 6, 1, 2, 4]\n",
      "Generation 89 : Best Fittest: 0.4411764705882353  Best Individual: [3, 0, 5, 6, 1, 2, 4]\n",
      "Generation 90 : Best Fittest: 0.4411764705882353  Best Individual: [3, 0, 5, 6, 1, 2, 4]\n",
      "Generation 91 : Best Fittest: 0.4411764705882353  Best Individual: [3, 5, 1, 6, 0, 2, 4]\n",
      "Generation 92 : Best Fittest: 0.4411764705882353  Best Individual: [3, 0, 5, 6, 1, 2, 4]\n"
     ]
    },
    {
     "name": "stdout",
     "output_type": "stream",
     "text": [
      "Generation 93 : Best Fittest: 0.4411764705882353  Best Individual: [3, 0, 5, 6, 1, 2, 4]\n",
      "Generation 94 : Best Fittest: 0.4411764705882353  Best Individual: [3, 0, 5, 6, 1, 2, 4]\n",
      "Generation 95 : Best Fittest: 0.45112781954887216  Best Individual: [3, 5, 0, 6, 1, 2, 4]\n",
      "Generation 96 : Best Fittest: 0.45112781954887216  Best Individual: [3, 5, 0, 6, 1, 2, 4]\n",
      "Generation 97 : Best Fittest: 0.45112781954887216  Best Individual: [3, 5, 0, 6, 1, 2, 4]\n",
      "Generation 98 : Best Fittest: 0.45112781954887216  Best Individual: [3, 5, 0, 6, 1, 2, 4]\n",
      "Generation 99 : Best Fittest: 0.45112781954887216  Best Individual: [3, 5, 0, 6, 1, 2, 4]\n",
      "['Tribhuvan Museum', 'Narayanhiti Palace', 'Pashupatinath Temple', 'Garden of Dreams', 'Boudhanath (Stupa)', 'Swayambhunath Stupa', 'Dakshinkali Temple']\n"
     ]
    }
   ],
   "source": [
    "generation = 100\n",
    "for i in range(generation):\n",
    "    best_fittest, best_individual, next_population = run(population)\n",
    "    print('Generation',i,':', 'Best Fittest:',best_fittest,\" Best Individual:\",best_individual)\n",
    "    while len(next_population) < 20:\n",
    "        print(len(next_population))\n",
    "        print(population[randint(0, len(population))])\n",
    "        next_population.append(population[randint(0, len(population))])\n",
    "    population = next_population\n",
    "    \n",
    "route = []\n",
    "for i in best_individual:\n",
    "    route.append(POIs[i])\n",
    "print(route)"
   ]
  },
  {
   "cell_type": "code",
   "execution_count": 40,
   "id": "0f561f9c",
   "metadata": {},
   "outputs": [
    {
     "name": "stdout",
     "output_type": "stream",
     "text": [
      "Starts at: 10:00:00\n",
      "Arrive  Tribhuvan Museum  at: 11:00:00\n",
      "Leave  Tribhuvan Museum  at: 13:00:00\n",
      "Arrive  Narayanhiti Palace at: 13:11:00\n",
      "Leave  Narayanhiti Palace  at: 15:11:00\n",
      "Arrive  Pashupatinath Temple at: 15:23:00\n",
      "Leave  Pashupatinath Temple  at: 17:23:00\n",
      "Arrive  Garden of Dreams at: 17:36:00\n",
      "Leave  Garden of Dreams  at: 19:36:00\n",
      "Arrive  Boudhanath (Stupa) at: 19:54:00\n",
      "Leave  Boudhanath (Stupa)  at: 21:54:00\n",
      "Arrive  Swayambhunath Stupa at: 22:26:00\n",
      "Leave  Swayambhunath Stupa  at: 00:26:00\n",
      "Arrive  Dakshinkali Temple at: 01:13:00\n",
      "Leave  Dakshinkali Temple  at: 03:13:00\n"
     ]
    }
   ],
   "source": [
    "current_time = time(10,0)\n",
    "print('Starts at:', current_time)\n",
    "count = 0\n",
    "for place in route:\n",
    "    i = POIs.index(place)\n",
    "    if count >= 1:\n",
    "        cost, current_time, arrival_time = waiting_cost(current_time, i, distance_time[j][i])\n",
    "        print('Arrive ',place, \"at:\", arrival_time)\n",
    "        print('Leave ',place,\" at:\", current_time)\n",
    "        \n",
    "    else:\n",
    "        cost, current_time, arrival_time = waiting_cost(current_time, i)\n",
    "        print('Arrive ',place, \" at:\", arrival_time)\n",
    "        print('Leave ',place,\" at:\", current_time)\n",
    "    j = i\n",
    "    count += 1\n"
   ]
  },
  {
   "cell_type": "code",
   "execution_count": 34,
   "id": "80c0c3b8",
   "metadata": {},
   "outputs": [
    {
     "data": {
      "text/plain": [
       "[[3, 1, 0, 4, 2],\n",
       " [3, 1, 4, 2, 0],\n",
       " [1, 0, 3, 4, 2],\n",
       " [0, 1, 3, 4, 2],\n",
       " [0, 2, 3, 1, 4],\n",
       " [2, 0, 3, 1, 4],\n",
       " [0, 3, 2, 4, 1],\n",
       " [4, 0, 2, 3, 1],\n",
       " [0, 1, 3, 4, 2],\n",
       " [3, 2, 0, 4, 1],\n",
       " [1, 3, 2, 4, 0],\n",
       " [4, 1, 3, 2, 0],\n",
       " [2, 1, 4, 3, 0],\n",
       " [3, 0, 2, 1, 4],\n",
       " [0, 4, 1, 3, 2],\n",
       " [0, 3, 2, 1, 4],\n",
       " [1, 4, 2, 0, 3],\n",
       " [3, 4, 0, 1, 2],\n",
       " [2, 1, 3, 0, 4],\n",
       " [2, 0, 4, 3, 1],\n",
       " [1, 2, 3, 4, 0],\n",
       " [3, 1, 4, 0, 2],\n",
       " [1, 2, 3, 4, 0],\n",
       " [3, 0, 1, 2, 4],\n",
       " [2, 4, 0, 3, 1],\n",
       " [2, 4, 3, 0, 1],\n",
       " [2, 1, 0, 3, 4],\n",
       " [3, 4, 1, 2, 0],\n",
       " [4, 1, 3, 0, 2],\n",
       " [2, 1, 4, 0, 3]]"
      ]
     },
     "execution_count": 34,
     "metadata": {},
     "output_type": "execute_result"
    }
   ],
   "source": [
    "population"
   ]
  }
 ],
 "metadata": {
  "kernelspec": {
   "display_name": "Python 3 (ipykernel)",
   "language": "python",
   "name": "python3"
  },
  "language_info": {
   "codemirror_mode": {
    "name": "ipython",
    "version": 3
   },
   "file_extension": ".py",
   "mimetype": "text/x-python",
   "name": "python",
   "nbconvert_exporter": "python",
   "pygments_lexer": "ipython3",
   "version": "3.10.4"
  }
 },
 "nbformat": 4,
 "nbformat_minor": 5
}
