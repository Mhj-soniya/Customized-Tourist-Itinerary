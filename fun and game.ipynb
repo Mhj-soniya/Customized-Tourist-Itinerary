{
 "cells": [
  {
   "cell_type": "code",
   "execution_count": 2,
   "id": "d9009f89",
   "metadata": {},
   "outputs": [],
   "source": [
    "from selenium import webdriver\n",
    "from selenium.webdriver.common.by import By"
   ]
  },
  {
   "cell_type": "code",
   "execution_count": 4,
   "id": "f9664474",
   "metadata": {},
   "outputs": [],
   "source": [
    "#ttps://english.onlinekhabar.com/fun-and-game-places-kathmandu.html\n",
    "driver = webdriver.Edge()\n",
    "url = 'https://english.onlinekhabar.com/fun-and-game-places-kathmandu.html?shem=ssusba'\n",
    "driver.get(url)"
   ]
  },
  {
   "cell_type": "code",
   "execution_count": null,
   "id": "f18b2fb7",
   "metadata": {},
   "outputs": [],
   "source": [
    "'/html/body/div[1]/main/div/div/div[2]/div[4]/p[3]'\n",
    "/html/body/div[1]/main/div/div/div[2]/div[4]/p[4]\n",
    "/html/body/div[1]/main/div/div/div[2]/div[4]/p[5]\n",
    "/html/body/div[1]/main/div/div/div[2]/div[4]/p[6]\n",
    "/html/body/div[1]/main/div/div/div[2]/div[4]/p[12]\n",
    "last one\n",
    "/html/body/div[1]/main/div/div/div[2]/div[4]/p[19]\n",
    "\n",
    "#headings\n",
    "/html/body/div[1]/main/div/div/div[2]/div[4]/h4[1]\n",
    "/html/body/div[1]/main/div/div/div[2]/div[4]/h4[8]"
   ]
  },
  {
   "cell_type": "code",
   "execution_count": 7,
   "id": "ba236ce8",
   "metadata": {},
   "outputs": [
    {
     "name": "stdout",
     "output_type": "stream",
     "text": [
      "If you have always dreamt of jumping high like superheroes, Jump KTM can bring you a bit close to that dream. Jump KTM is a fun place where anyone can enjoy jumping and breaking their limits. Located in Mandikhatar, Kathmandu, it opens every day from 10 am to 8 pm. It has some exciting attractions like the slam dunk arena, dodgeball area, foam pit, professional trampoline, airbag, and toddler zone. \n"
     ]
    }
   ],
   "source": [
    "data = driver.find_element(By.XPATH,'/html/body/div[1]/main/div/div/div[2]/div[4]/p[3]')\n",
    "print(data.text)"
   ]
  },
  {
   "cell_type": "code",
   "execution_count": 14,
   "id": "3436b029",
   "metadata": {},
   "outputs": [],
   "source": [
    "desc = []\n",
    "for i in range(3,20):\n",
    "    path = f'/html/body/div[1]/main/div/div/div[2]/div[4]/p[{i}]'\n",
    "    data = driver.find_element(By.XPATH,path)\n",
    "    desc.append(data.text)"
   ]
  },
  {
   "cell_type": "code",
   "execution_count": 15,
   "id": "c5907889",
   "metadata": {},
   "outputs": [
    {
     "name": "stdout",
     "output_type": "stream",
     "text": [
      "['If you have always dreamt of jumping high like superheroes, Jump KTM can bring you a bit close to that dream. Jump KTM is a fun place where anyone can enjoy jumping and breaking their limits. Located in Mandikhatar, Kathmandu, it opens every day from 10 am to 8 pm. It has some exciting attractions like the slam dunk arena, dodgeball area, foam pit, professional trampoline, airbag, and toddler zone. ', 'One can book the pits on an hourly basis, per person or as a group. On weekdays, it is Rs 799 per hour while on weekends and holidays, it is Rs 999 per hour. It has a different section for children at Rs 499 and Rs 699 on weekdays and weekends respectively. You can also book the pit for four people at Rs 2,899 and Rs 3,499 whereas, for a group of 10 people, it costs Rs 6,899 and NRs 7,999 for weekdays and weekends respectively.', 'Art in Paradise is Nepal’s first 3D photo museum in Nepal, with an area of 7,500 square feet, on the 5th floor of the Kathmandu Mall. If you want to merge yourself into a beautiful fantasy and create beautiful memories, Art in Paradise Nepal is for you. It is especially a fun place to be with family and children.', 'The place is decorated in different themes including seven wonders of the world, polar region, Jurassic World, and aquatic region among others. You can visit the place from 7 am to 8 pm seven days a week. The ticket fares are Rs 500 for adults and Rs 350 for kids below ten years of age.', 'Whoopee Land is one of the most popular amusement and waterparks in Nepal. Whoopee Land is located in Chobhar and offers a variety of 17 rides including thrill rides, family rides, kiddie rides, and a huge waterpark and other numerous amazing games and activities. You can enjoy the speed slide or multi-lane slides and add to the thrill. Whoopee Land’s Hollywood and Jurassic themes create a beautiful vibe to snap a picture. ', 'It can be a perfect getaway this summer to cool off the heat with friends and family. Whoopee Land opens from 10 am to 5 pm every day. They charge Rs 750 for regular, Rs 600 for students (with ID card), and Rs 400 for children below 4 ft. ', 'If you have a taste for doing something crazy, Astrek Park is the best place to be for you. Located at Astrek Complex in the Thamel, it is Nepal’s tallest climbing wall that is 50 feet in height. It has twenty several routes to climb from beginner to professional level. Professional trainers are there to mentor the beginners and ensure safety. ', 'Astrek Park is open seven days a week from 8 am to 8 pm. The fares for the park on weekdays is Rs 350 (from 8 am to 4 pm), and Rs 450 (from 4 pm to 8 pm), and on Saturdays, it is Rs 450. One can also rent shoes for an additional Rs 150 and a harness for Rs 100. After the climb, you can also enjoy relaxing at the bar with food and music.', 'Another option for the thrill-seeker in you is Kathmandu Sports Climbing Centre. This Kaldhara-based centre also provides wall/rock climbing classes, so here, you can also climb walls and big boulders with trainers who groom the young climbers. One can enjoy climbing the wall that is 16 feet high with 25 climbing routes. The space is wide enough for multiple people to climb at a time.', 'The fares for an average person is Rs 500 for climbing and bouldering and Rs 700 for a combo, excluding climbing gear. One can also rent the gear including rope, shoes, harness, chalk bag, etc with extra payment.', 'House of Palettes is one of the best places for someone who wants to awaken their inner artist. In Jhamsikhel, Lalitpur, one can draw up their wonderful creation from 12 pm to 7 pm on every day of the week, except Mondays.', 'House of Palettes is a wonderful studio filled with beautiful paintings and a friendly environment where one can choose equipment or forms they want to create in the art. There is a mentor who will guide you towards your masterpiece as well as hand you all the necessary equipment you need.', 'The best part is you get to take your masterpiece back to your home. The price fares depend upon the canvas size starting from Rs 1,200 to 2,000.', 'Kathmandu Fun Park is one of the oldest and popular amusement parks in Nepal, situated at Bhrikuti Mandap. The amusement park opens from 10 am to 6 pm and offers various fun games; some of the popular rides are the Ferris wheel, Columbus, rollercoaster, train, boat ride and many more.', 'It also has a haunted house, House of Horror, which is very famous among the visitors. The fares for the park are very reasonable and it is hence popular among families on weekends. The entrance fee starts from just Rs 60 and for the minor children and students (with ID card), it is Rs 30. The games and rides offered in the park are also reasonable and will cost you only Rs 50 or 60 accordingly with the games you play.', 'If adventure is what excites you the most, Outdoor Adventure Centre Nepal in Thamel is the place to be. It offers you many options to explore that various groups of people can enjoy. Several attractions in which people can challenge themselves are zipline, rope climbing, slackline, climb walls or boulders and many more.', 'It is open from 11 am to 5 pm on Tuesday to Friday and from 10 am to 6 pm on Saturday to Sunday. The initial fare for activities starts from Rs 500. It also provides outdoor leadership programmes and wilderness first-aid courses. ']\n"
     ]
    }
   ],
   "source": [
    "print(desc)"
   ]
  },
  {
   "cell_type": "code",
   "execution_count": 17,
   "id": "20661f63",
   "metadata": {},
   "outputs": [
    {
     "name": "stdout",
     "output_type": "stream",
     "text": [
      "House of Palettes is a wonderful studio filled with beautiful paintings and a friendly environment where one can choose equipment or forms they want to create in the art. There is a mentor who will guide you towards your masterpiece as well as hand you all the necessary equipment you need. The best part is you get to take your masterpiece back to your home. The price fares depend upon the canvas size starting from Rs 1,200 to 2,000.\n"
     ]
    }
   ],
   "source": [
    "print(desc[11],desc[12])"
   ]
  },
  {
   "cell_type": "code",
   "execution_count": 18,
   "id": "e641491c",
   "metadata": {},
   "outputs": [
    {
     "name": "stdout",
     "output_type": "stream",
     "text": [
      "House of Palettes is a wonderful studio filled with beautiful paintings and a friendly environment where one can choose equipment or forms they want to create in the art. There is a mentor who will guide you towards your masterpiece as well as hand you all the necessary equipment you need.The best part is you get to take your masterpiece back to your home. The price fares depend upon the canvas size starting from Rs 1,200 to 2,000.\n"
     ]
    }
   ],
   "source": [
    "desc[11] = desc[11]+desc[12]\n",
    "print(desc[11])"
   ]
  },
  {
   "cell_type": "code",
   "execution_count": 20,
   "id": "00abfe67",
   "metadata": {},
   "outputs": [],
   "source": [
    "desc.remove(desc[12])"
   ]
  },
  {
   "cell_type": "code",
   "execution_count": 21,
   "id": "512c5d0f",
   "metadata": {},
   "outputs": [
    {
     "name": "stdout",
     "output_type": "stream",
     "text": [
      "16\n"
     ]
    }
   ],
   "source": [
    "print(len(desc))"
   ]
  },
  {
   "cell_type": "code",
   "execution_count": 22,
   "id": "030137d3",
   "metadata": {},
   "outputs": [
    {
     "data": {
      "text/plain": [
       "'Kathmandu Fun Park is one of the oldest and popular amusement parks in Nepal, situated at Bhrikuti Mandap. The amusement park opens from 10 am to 6 pm and offers various fun games; some of the popular rides are the Ferris wheel, Columbus, rollercoaster, train, boat ride and many more.'"
      ]
     },
     "execution_count": 22,
     "metadata": {},
     "output_type": "execute_result"
    }
   ],
   "source": [
    "desc[12]"
   ]
  }
 ],
 "metadata": {
  "kernelspec": {
   "display_name": "Python 3 (ipykernel)",
   "language": "python",
   "name": "python3"
  },
  "language_info": {
   "codemirror_mode": {
    "name": "ipython",
    "version": 3
   },
   "file_extension": ".py",
   "mimetype": "text/x-python",
   "name": "python",
   "nbconvert_exporter": "python",
   "pygments_lexer": "ipython3",
   "version": "3.10.4"
  }
 },
 "nbformat": 4,
 "nbformat_minor": 5
}
