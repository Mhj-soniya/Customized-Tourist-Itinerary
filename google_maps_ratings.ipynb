{
 "cells": [
  {
   "cell_type": "code",
   "execution_count": 46,
   "id": "ec76eba6",
   "metadata": {},
   "outputs": [],
   "source": [
    "from selenium import webdriver\n",
    "from selenium.webdriver.common.by import By"
   ]
  },
  {
   "cell_type": "code",
   "execution_count": 71,
   "id": "8a8db064",
   "metadata": {},
   "outputs": [],
   "source": [
    "driver = webdriver.Edge()\n",
    "url = 'https://www.google.com/maps/@27.6001798,85.3239595,15z?entry=ttu'\n",
    "driver.get(url)"
   ]
  },
  {
   "cell_type": "code",
   "execution_count": 48,
   "id": "48b977d3",
   "metadata": {},
   "outputs": [],
   "source": [
    "#for writing the places to be searched on google map\n",
    "from selenium.webdriver.support.ui import WebDriverWait\n",
    "from selenium.webdriver.support import expected_conditions as EC"
   ]
  },
  {
   "cell_type": "code",
   "execution_count": 73,
   "id": "33b53247",
   "metadata": {},
   "outputs": [
    {
     "name": "stdout",
     "output_type": "stream",
     "text": [
      "४.७\n"
     ]
    }
   ],
   "source": [
    "path = '/html/body/div[3]/div[8]/div[3]/div[1]/div[1]/div/div[2]/form/input'\n",
    "voucher_input = WebDriverWait(driver,20).until(EC.element_to_be_clickable((By.XPATH, path))) \n",
    "voucher_input.send_keys(\"Pashupatinath Temple\")\n",
    "path1 = '/html/body/div[3]/div[8]/div[3]/div[1]/div[1]/div/div[2]/div[1]/button'\n",
    "driver.find_element(By.XPATH, path1).click()\n",
    "path2 = '/html/body/div[3]/div[8]/div[9]/div/div/div[1]/div[2]/div/div[1]/div/div/div[2]/div/div[1]/div[2]/div/div[1]/div[2]/span[1]/span[1]'\n",
    "rate = driver.find_element(By.XPATH, path2)\n",
    "print(rate.text)"
   ]
  },
  {
   "cell_type": "code",
   "execution_count": 49,
   "id": "adafff6e",
   "metadata": {},
   "outputs": [],
   "source": [
    "def input_field(destination):\n",
    "    path = '/html/body/div[3]/div[8]/div[3]/div[1]/div[1]/div/div[2]/form/input'\n",
    "    voucher_input = WebDriverWait(driver,20).until(EC.element_to_be_clickable((By.XPATH, path))) \n",
    "    voucher_input.send_keys(destination)"
   ]
  },
  {
   "cell_type": "code",
   "execution_count": 98,
   "id": "5d1068ba",
   "metadata": {},
   "outputs": [],
   "source": [
    "# for clicking on the search button of google map\n",
    "def search_button():\n",
    "    path = '/html/body/div[3]/div[8]/div[3]/div[1]/div[1]/div/div[2]/div[1]/button'\n",
    "    driver.find_element(By.XPATH, path).click()\n",
    "    driver.implicitly_wait(10)"
   ]
  },
  {
   "cell_type": "code",
   "execution_count": 77,
   "id": "96668541",
   "metadata": {},
   "outputs": [],
   "source": [
    "def cancel_button():\n",
    "    path = '/html/body/div[3]/div[8]/div[3]/div[1]/div[1]/div/div[2]/div[2]/button'\n",
    "    driver.find_element(By.XPATH, path).click()"
   ]
  },
  {
   "cell_type": "code",
   "execution_count": 90,
   "id": "18ad91f7",
   "metadata": {},
   "outputs": [],
   "source": [
    "#to check if such path is present or not\n",
    "from selenium.common.exceptions import NoSuchElementException\n",
    "def hasXpath(xpath):\n",
    "    try:\n",
    "        driver.find_element(By.XPATH, xpath)\n",
    "    except NoSuchElementException:\n",
    "        return False\n",
    "    return True"
   ]
  },
  {
   "cell_type": "code",
   "execution_count": 100,
   "id": "afacd2e8",
   "metadata": {},
   "outputs": [],
   "source": [
    "#to scrape the ratings and rating counts\n",
    "def find_ratings():\n",
    "    path = '/html/body/div[3]/div[8]/div[9]/div/div/div[1]/div[2]/div/div[1]/div/div/div[2]/div/div[1]/div[2]/div/div[1]/div[2]/span[1]/span[1]'\n",
    "    if hasXpath(path):\n",
    "        rate = driver.find_element(By.XPATH, path)\n",
    "        print(rate.text)\n",
    "    else:\n",
    "        pass"
   ]
  },
  {
   "cell_type": "code",
   "execution_count": 103,
   "id": "888079ef",
   "metadata": {},
   "outputs": [],
   "source": [
    "#to scrape the rating counts\n",
    "def find_rating_counts():\n",
    "    path = '/html/body/div[3]/div[8]/div[9]/div/div/div[1]/div[2]/div/div[1]/div/div/div[2]/div/div[1]/div[2]/div/div[1]/div[2]/span[2]/span/span'\n",
    "    if hasXpath(path):\n",
    "        rate_counts = driver.find_element(By.XPATH, path)   \n",
    "        print(rate_counts.text)\n",
    "    else:\n",
    "        pass"
   ]
  },
  {
   "cell_type": "markdown",
   "id": "2d7b47a3",
   "metadata": {},
   "source": [
    "Ratings XPATH\n",
    "_____________\n",
    "KDS=>'/html/body/div[3]/div[8]/div[9]/div/div/div[1]/div[2]/div/div[1]/div/div/div[2]/div/div[1]/div[2]/div/div[1]/div[2]/span[1]/span[1]\n",
    "LDS=>/html/body/div[3]/div[8]/div[9]/div/div/div[1]/div[2]/div/div[1]/div/div/div[2]/div/div[1]/div[2]/div/div[1]/div[2]/span[1]/span[1]\n",
    "rand=>/html/body/div[3]/div[8]/div[9]/div/div/div[1]/div[2]/div/div[1]/div/div/div[2]/div/div[1]/div[2]/div/div[1]/div[2]/span[1]/span[1]\n",
    "bouddha=>/html/body/div[3]/div[8]/div[9]/div/div/div[1]/div[2]/div/div[1]/div/div/div[2]/div/div[1]/div[2]/div/div[1]/div[2]/span[1]/span[1]\n",
    "garden_of_dreams=>/html/body/div[3]/div[8]/div[9]/div/div/div[1]/div[2]/div/div[1]/div/div/div[2]/div/div[1]/div[2]/div/div[1]/div[2]/span[1]/span[1]"
   ]
  },
  {
   "cell_type": "code",
   "execution_count": 53,
   "id": "b85a15e0",
   "metadata": {},
   "outputs": [
    {
     "name": "stdout",
     "output_type": "stream",
     "text": [
      "Pashupatinath Temple\n"
     ]
    }
   ],
   "source": [
    "#make a list of location column of our dataset and using loop to scrape the ratings\n",
    "import pandas as pd\n",
    "df = pd.read_csv('POI_data.csv')\n",
    "print(df.locations[0])"
   ]
  },
  {
   "cell_type": "code",
   "execution_count": 104,
   "id": "2223d13f",
   "metadata": {},
   "outputs": [
    {
     "name": "stdout",
     "output_type": "stream",
     "text": [
      "Pashupatinath Temple\n",
      "(३४,९४५)\n",
      "Boudhanath (Stupa)\n",
      "४.७\n",
      "(१४,५५३)\n",
      "Swayambhunath Stupa\n",
      "४.६\n",
      "(१५,८२१)\n",
      "Thamel\n",
      "Kopan Monastery\n",
      "४.३\n",
      "(१,१३०)\n",
      "Garden of Dreams\n",
      "४.२\n",
      "(११,१९१)\n",
      "Durbar Square Kathmandu\n",
      "४.५\n",
      "(३१,७६४)\n",
      "Hanuman Dhoka Temple\n",
      "Kumari House\n",
      "४.५\n",
      "(३६३)\n",
      "Buddha Nilkanth\n",
      "४.६\n",
      "(८,३७२)\n",
      "Narayanhiti Palace\n",
      "४.४\n",
      "(४,५७८)\n",
      "Indra Chowk\n",
      "Jagannath Temple\n",
      "(७५)\n",
      "Freak Street\n",
      "४.१\n",
      "२६ समीक्षाहरू\n",
      "Kasthamandap\n",
      "४.६\n",
      "(८५५)\n",
      "Asan\n",
      "४.२\n",
      "(५,१११)\n",
      "Taudaha Lake\n",
      "४.३\n",
      "(७६८)\n",
      "Kathesimbhu Stupa\n",
      "४.६\n",
      "(१५,८२१)\n",
      "Dakshinkali Temple\n",
      "४.५\n",
      "(३३५)\n",
      "National Museum of Nepal\n"
     ]
    },
    {
     "ename": "WebDriverException",
     "evalue": "Message: target frame detached\n  (failed to check if window was closed: disconnected: Unable to receive message from renderer)\n  (Session info: MicrosoftEdge=119.0.2151.44)\nStacktrace:\n\tGetHandleVerifier [0x00007FF67D2B5462+60322]\n\tMicrosoft::Applications::Events::ILogConfiguration::operator* [0x00007FF67D23A412+245298]\n\t(No symbol) [0x00007FF67D009B33]\n\t(No symbol) [0x00007FF67CFF2C3F]\n\t(No symbol) [0x00007FF67CFF0E4B]\n\t(No symbol) [0x00007FF67CFF1D7E]\n\t(No symbol) [0x00007FF67CFFFE7A]\n\t(No symbol) [0x00007FF67D016874]\n\t(No symbol) [0x00007FF67D09528E]\n\t(No symbol) [0x00007FF67D07B8B3]\n\t(No symbol) [0x00007FF67D04C5C3]\n\t(No symbol) [0x00007FF67D04B9D3]\n\t(No symbol) [0x00007FF67D04CD54]\n\tMicrosoft::Applications::Events::EventProperty::to_string [0x00007FF67D492084+1154308]\n\t(No symbol) [0x00007FF67D0CE656]\n\tMicrosoft::Applications::Events::EventProperty::clear [0x00007FF67D190AD3+36579]\n\tMicrosoft::Applications::Events::EventProperty::clear [0x00007FF67D1889FD+3597]\n\tMicrosoft::Applications::Events::EventProperty::to_string [0x00007FF67D490DC4+1149508]\n\tMicrosoft::Applications::Events::ILogConfiguration::operator* [0x00007FF67D243DC8+284648]\n\tMicrosoft::Applications::Events::ILogConfiguration::operator* [0x00007FF67D23FB54+267636]\n\tMicrosoft::Applications::Events::ILogConfiguration::operator* [0x00007FF67D23FC82+267938]\n\tMicrosoft::Applications::Events::ILogConfiguration::operator* [0x00007FF67D232B31+214353]\n\tBaseThreadInitThunk [0x00007FF817577344+20]\n\tRtlUserThreadStart [0x00007FF8186626B1+33]\n",
     "output_type": "error",
     "traceback": [
      "\u001b[1;31m---------------------------------------------------------------------------\u001b[0m",
      "\u001b[1;31mWebDriverException\u001b[0m                        Traceback (most recent call last)",
      "Cell \u001b[1;32mIn[104], line 7\u001b[0m\n\u001b[0;32m      5\u001b[0m search_button()\n\u001b[0;32m      6\u001b[0m find_ratings()\n\u001b[1;32m----> 7\u001b[0m \u001b[43mfind_rating_counts\u001b[49m\u001b[43m(\u001b[49m\u001b[43m)\u001b[49m\n\u001b[0;32m      8\u001b[0m cancel_button()\n",
      "Cell \u001b[1;32mIn[103], line 4\u001b[0m, in \u001b[0;36mfind_rating_counts\u001b[1;34m()\u001b[0m\n\u001b[0;32m      2\u001b[0m \u001b[38;5;28;01mdef\u001b[39;00m \u001b[38;5;21mfind_rating_counts\u001b[39m():\n\u001b[0;32m      3\u001b[0m     path \u001b[38;5;241m=\u001b[39m \u001b[38;5;124m'\u001b[39m\u001b[38;5;124m/html/body/div[3]/div[8]/div[9]/div/div/div[1]/div[2]/div/div[1]/div/div/div[2]/div/div[1]/div[2]/div/div[1]/div[2]/span[2]/span/span\u001b[39m\u001b[38;5;124m'\u001b[39m\n\u001b[1;32m----> 4\u001b[0m     \u001b[38;5;28;01mif\u001b[39;00m \u001b[43mhasXpath\u001b[49m\u001b[43m(\u001b[49m\u001b[43mpath\u001b[49m\u001b[43m)\u001b[49m:\n\u001b[0;32m      5\u001b[0m         rate_counts \u001b[38;5;241m=\u001b[39m driver\u001b[38;5;241m.\u001b[39mfind_element(By\u001b[38;5;241m.\u001b[39mXPATH, path)   \n\u001b[0;32m      6\u001b[0m         \u001b[38;5;28mprint\u001b[39m(rate_counts\u001b[38;5;241m.\u001b[39mtext)\n",
      "Cell \u001b[1;32mIn[90], line 5\u001b[0m, in \u001b[0;36mhasXpath\u001b[1;34m(xpath)\u001b[0m\n\u001b[0;32m      3\u001b[0m \u001b[38;5;28;01mdef\u001b[39;00m \u001b[38;5;21mhasXpath\u001b[39m(xpath):\n\u001b[0;32m      4\u001b[0m     \u001b[38;5;28;01mtry\u001b[39;00m:\n\u001b[1;32m----> 5\u001b[0m         \u001b[43mdriver\u001b[49m\u001b[38;5;241;43m.\u001b[39;49m\u001b[43mfind_element\u001b[49m\u001b[43m(\u001b[49m\u001b[43mBy\u001b[49m\u001b[38;5;241;43m.\u001b[39;49m\u001b[43mXPATH\u001b[49m\u001b[43m,\u001b[49m\u001b[43m \u001b[49m\u001b[43mxpath\u001b[49m\u001b[43m)\u001b[49m\n\u001b[0;32m      6\u001b[0m     \u001b[38;5;28;01mexcept\u001b[39;00m NoSuchElementException:\n\u001b[0;32m      7\u001b[0m         \u001b[38;5;28;01mreturn\u001b[39;00m \u001b[38;5;28;01mFalse\u001b[39;00m\n",
      "File \u001b[1;32m~\\anaconda3\\envs\\keras_env\\lib\\site-packages\\selenium\\webdriver\\remote\\webdriver.py:740\u001b[0m, in \u001b[0;36mWebDriver.find_element\u001b[1;34m(self, by, value)\u001b[0m\n\u001b[0;32m    737\u001b[0m     by \u001b[38;5;241m=\u001b[39m By\u001b[38;5;241m.\u001b[39mCSS_SELECTOR\n\u001b[0;32m    738\u001b[0m     value \u001b[38;5;241m=\u001b[39m \u001b[38;5;124mf\u001b[39m\u001b[38;5;124m'\u001b[39m\u001b[38;5;124m[name=\u001b[39m\u001b[38;5;124m\"\u001b[39m\u001b[38;5;132;01m{\u001b[39;00mvalue\u001b[38;5;132;01m}\u001b[39;00m\u001b[38;5;124m\"\u001b[39m\u001b[38;5;124m]\u001b[39m\u001b[38;5;124m'\u001b[39m\n\u001b[1;32m--> 740\u001b[0m \u001b[38;5;28;01mreturn\u001b[39;00m \u001b[38;5;28;43mself\u001b[39;49m\u001b[38;5;241;43m.\u001b[39;49m\u001b[43mexecute\u001b[49m\u001b[43m(\u001b[49m\u001b[43mCommand\u001b[49m\u001b[38;5;241;43m.\u001b[39;49m\u001b[43mFIND_ELEMENT\u001b[49m\u001b[43m,\u001b[49m\u001b[43m \u001b[49m\u001b[43m{\u001b[49m\u001b[38;5;124;43m\"\u001b[39;49m\u001b[38;5;124;43musing\u001b[39;49m\u001b[38;5;124;43m\"\u001b[39;49m\u001b[43m:\u001b[49m\u001b[43m \u001b[49m\u001b[43mby\u001b[49m\u001b[43m,\u001b[49m\u001b[43m \u001b[49m\u001b[38;5;124;43m\"\u001b[39;49m\u001b[38;5;124;43mvalue\u001b[39;49m\u001b[38;5;124;43m\"\u001b[39;49m\u001b[43m:\u001b[49m\u001b[43m \u001b[49m\u001b[43mvalue\u001b[49m\u001b[43m}\u001b[49m\u001b[43m)\u001b[49m[\u001b[38;5;124m\"\u001b[39m\u001b[38;5;124mvalue\u001b[39m\u001b[38;5;124m\"\u001b[39m]\n",
      "File \u001b[1;32m~\\anaconda3\\envs\\keras_env\\lib\\site-packages\\selenium\\webdriver\\remote\\webdriver.py:346\u001b[0m, in \u001b[0;36mWebDriver.execute\u001b[1;34m(self, driver_command, params)\u001b[0m\n\u001b[0;32m    344\u001b[0m response \u001b[38;5;241m=\u001b[39m \u001b[38;5;28mself\u001b[39m\u001b[38;5;241m.\u001b[39mcommand_executor\u001b[38;5;241m.\u001b[39mexecute(driver_command, params)\n\u001b[0;32m    345\u001b[0m \u001b[38;5;28;01mif\u001b[39;00m response:\n\u001b[1;32m--> 346\u001b[0m     \u001b[38;5;28;43mself\u001b[39;49m\u001b[38;5;241;43m.\u001b[39;49m\u001b[43merror_handler\u001b[49m\u001b[38;5;241;43m.\u001b[39;49m\u001b[43mcheck_response\u001b[49m\u001b[43m(\u001b[49m\u001b[43mresponse\u001b[49m\u001b[43m)\u001b[49m\n\u001b[0;32m    347\u001b[0m     response[\u001b[38;5;124m\"\u001b[39m\u001b[38;5;124mvalue\u001b[39m\u001b[38;5;124m\"\u001b[39m] \u001b[38;5;241m=\u001b[39m \u001b[38;5;28mself\u001b[39m\u001b[38;5;241m.\u001b[39m_unwrap_value(response\u001b[38;5;241m.\u001b[39mget(\u001b[38;5;124m\"\u001b[39m\u001b[38;5;124mvalue\u001b[39m\u001b[38;5;124m\"\u001b[39m, \u001b[38;5;28;01mNone\u001b[39;00m))\n\u001b[0;32m    348\u001b[0m     \u001b[38;5;28;01mreturn\u001b[39;00m response\n",
      "File \u001b[1;32m~\\anaconda3\\envs\\keras_env\\lib\\site-packages\\selenium\\webdriver\\remote\\errorhandler.py:245\u001b[0m, in \u001b[0;36mErrorHandler.check_response\u001b[1;34m(self, response)\u001b[0m\n\u001b[0;32m    243\u001b[0m         alert_text \u001b[38;5;241m=\u001b[39m value[\u001b[38;5;124m\"\u001b[39m\u001b[38;5;124malert\u001b[39m\u001b[38;5;124m\"\u001b[39m]\u001b[38;5;241m.\u001b[39mget(\u001b[38;5;124m\"\u001b[39m\u001b[38;5;124mtext\u001b[39m\u001b[38;5;124m\"\u001b[39m)\n\u001b[0;32m    244\u001b[0m     \u001b[38;5;28;01mraise\u001b[39;00m exception_class(message, screen, stacktrace, alert_text)  \u001b[38;5;66;03m# type: ignore[call-arg]  # mypy is not smart enough here\u001b[39;00m\n\u001b[1;32m--> 245\u001b[0m \u001b[38;5;28;01mraise\u001b[39;00m exception_class(message, screen, stacktrace)\n",
      "\u001b[1;31mWebDriverException\u001b[0m: Message: target frame detached\n  (failed to check if window was closed: disconnected: Unable to receive message from renderer)\n  (Session info: MicrosoftEdge=119.0.2151.44)\nStacktrace:\n\tGetHandleVerifier [0x00007FF67D2B5462+60322]\n\tMicrosoft::Applications::Events::ILogConfiguration::operator* [0x00007FF67D23A412+245298]\n\t(No symbol) [0x00007FF67D009B33]\n\t(No symbol) [0x00007FF67CFF2C3F]\n\t(No symbol) [0x00007FF67CFF0E4B]\n\t(No symbol) [0x00007FF67CFF1D7E]\n\t(No symbol) [0x00007FF67CFFFE7A]\n\t(No symbol) [0x00007FF67D016874]\n\t(No symbol) [0x00007FF67D09528E]\n\t(No symbol) [0x00007FF67D07B8B3]\n\t(No symbol) [0x00007FF67D04C5C3]\n\t(No symbol) [0x00007FF67D04B9D3]\n\t(No symbol) [0x00007FF67D04CD54]\n\tMicrosoft::Applications::Events::EventProperty::to_string [0x00007FF67D492084+1154308]\n\t(No symbol) [0x00007FF67D0CE656]\n\tMicrosoft::Applications::Events::EventProperty::clear [0x00007FF67D190AD3+36579]\n\tMicrosoft::Applications::Events::EventProperty::clear [0x00007FF67D1889FD+3597]\n\tMicrosoft::Applications::Events::EventProperty::to_string [0x00007FF67D490DC4+1149508]\n\tMicrosoft::Applications::Events::ILogConfiguration::operator* [0x00007FF67D243DC8+284648]\n\tMicrosoft::Applications::Events::ILogConfiguration::operator* [0x00007FF67D23FB54+267636]\n\tMicrosoft::Applications::Events::ILogConfiguration::operator* [0x00007FF67D23FC82+267938]\n\tMicrosoft::Applications::Events::ILogConfiguration::operator* [0x00007FF67D232B31+214353]\n\tBaseThreadInitThunk [0x00007FF817577344+20]\n\tRtlUserThreadStart [0x00007FF8186626B1+33]\n"
     ]
    }
   ],
   "source": [
    "#to scrape the ratings\n",
    "for destination in df.locations:\n",
    "    print(destination)\n",
    "    input_field(destination)\n",
    "    search_button()\n",
    "    find_ratings()\n",
    "    find_rating_counts()\n",
    "    cancel_button()"
   ]
  }
 ],
 "metadata": {
  "kernelspec": {
   "display_name": "Python 3 (ipykernel)",
   "language": "python",
   "name": "python3"
  },
  "language_info": {
   "codemirror_mode": {
    "name": "ipython",
    "version": 3
   },
   "file_extension": ".py",
   "mimetype": "text/x-python",
   "name": "python",
   "nbconvert_exporter": "python",
   "pygments_lexer": "ipython3",
   "version": "3.10.4"
  }
 },
 "nbformat": 4,
 "nbformat_minor": 5
}
