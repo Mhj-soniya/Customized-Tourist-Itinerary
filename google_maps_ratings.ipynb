{
 "cells": [
  {
   "cell_type": "code",
   "execution_count": 3,
   "id": "ec76eba6",
   "metadata": {},
   "outputs": [],
   "source": [
    "from selenium import webdriver\n",
    "from selenium.webdriver.common.by import By"
   ]
  },
  {
   "cell_type": "code",
   "execution_count": 4,
   "id": "8a8db064",
   "metadata": {},
   "outputs": [],
   "source": [
    "driver = webdriver.Edge()\n",
    "url = 'https://www.google.com/maps/@27.6001798,85.3239595,15z?entry=ttu'\n",
    "driver.get(url)"
   ]
  },
  {
   "cell_type": "code",
   "execution_count": 5,
   "id": "48b977d3",
   "metadata": {},
   "outputs": [],
   "source": [
    "#for writing the places to be searched on google map\n",
    "from selenium.webdriver.support.ui import WebDriverWait\n",
    "from selenium.webdriver.support import expected_conditions as EC # for searching on the input field"
   ]
  },
  {
   "cell_type": "code",
   "execution_count": 9,
   "id": "33b53247",
   "metadata": {},
   "outputs": [
    {
     "name": "stdout",
     "output_type": "stream",
     "text": [
      "4.7\n"
     ]
    }
   ],
   "source": [
    "path = '/html/body/div[3]/div[8]/div[3]/div[1]/div[1]/div/div[2]/form/input'\n",
    "voucher_input = WebDriverWait(driver,20).until(EC.element_to_be_clickable((By.XPATH, path))) \n",
    "voucher_input.send_keys(\"Pashupatinath Temple\")\n",
    "path1 = '/html/body/div[3]/div[8]/div[3]/div[1]/div[1]/div/div[2]/div[1]/button'\n",
    "driver.find_element(By.XPATH, path1).click()\n",
    "path2 = '/html/body/div[3]/div[8]/div[9]/div/div/div[1]/div[2]/div/div[1]/div/div/div[2]/div/div[1]/div[2]/div/div[1]/div[2]/span[1]/span[1]'\n",
    "rate = driver.find_element(By.XPATH, path2)\n",
    "print(rate.text)"
   ]
  },
  {
   "cell_type": "code",
   "execution_count": 10,
   "id": "adafff6e",
   "metadata": {},
   "outputs": [],
   "source": [
    "def input_field(destination):\n",
    "    path = '/html/body/div[3]/div[8]/div[3]/div[1]/div[1]/div/div[2]/form/input'\n",
    "    voucher_input = WebDriverWait(driver,20).until(EC.element_to_be_clickable((By.XPATH, path))) \n",
    "    voucher_input.send_keys(destination)"
   ]
  },
  {
   "cell_type": "code",
   "execution_count": 11,
   "id": "5d1068ba",
   "metadata": {},
   "outputs": [],
   "source": [
    "# for clicking on the search button of google map\n",
    "def search_button():\n",
    "    path = '/html/body/div[3]/div[8]/div[3]/div[1]/div[1]/div/div[2]/div[1]/button'\n",
    "    driver.find_element(By.XPATH, path).click()\n",
    "    driver.implicitly_wait(10)"
   ]
  },
  {
   "cell_type": "code",
   "execution_count": 12,
   "id": "96668541",
   "metadata": {},
   "outputs": [],
   "source": [
    "def cancel_button(): #its basically the cross button for clearing the input field for searching another place\n",
    "    path = '/html/body/div[3]/div[8]/div[3]/div[1]/div[1]/div/div[2]/div[2]/button'\n",
    "    driver.find_element(By.XPATH, path).click()"
   ]
  },
  {
   "cell_type": "code",
   "execution_count": 13,
   "id": "18ad91f7",
   "metadata": {},
   "outputs": [],
   "source": [
    "#to check if such path is present or not\n",
    "from selenium.common.exceptions import NoSuchElementException\n",
    "def hasXpath(xpath):\n",
    "    try:\n",
    "        driver.find_element(By.XPATH, xpath)\n",
    "    except NoSuchElementException:\n",
    "        return False\n",
    "    return True"
   ]
  },
  {
   "cell_type": "code",
   "execution_count": 14,
   "id": "afacd2e8",
   "metadata": {},
   "outputs": [],
   "source": [
    "#to scrape the ratings and rating counts\n",
    "def find_ratings():\n",
    "    path = '/html/body/div[3]/div[8]/div[9]/div/div/div[1]/div[2]/div/div[1]/div/div/div[2]/div/div[1]/div[2]/div/div[1]/div[2]/span[1]/span[1]'\n",
    "    if hasXpath(path):\n",
    "        rate = driver.find_element(By.XPATH, path)\n",
    "        return rate.text\n",
    "    else:\n",
    "        return None"
   ]
  },
  {
   "cell_type": "code",
   "execution_count": 15,
   "id": "888079ef",
   "metadata": {},
   "outputs": [],
   "source": [
    "#to scrape the rating counts\n",
    "def find_rating_counts():\n",
    "    path = '/html/body/div[3]/div[8]/div[9]/div/div/div[1]/div[2]/div/div[1]/div/div/div[2]/div/div[1]/div[2]/div/div[1]/div[2]/span[2]/span/span'\n",
    "    if hasXpath(path):\n",
    "        rate_counts = driver.find_element(By.XPATH, path)   \n",
    "        return rate_counts.text\n",
    "    else:\n",
    "        return None"
   ]
  },
  {
   "cell_type": "markdown",
   "id": "2d7b47a3",
   "metadata": {},
   "source": [
    "Ratings XPATH\n",
    "_____________\n",
    "KDS=>'/html/body/div[3]/div[8]/div[9]/div/div/div[1]/div[2]/div/div[1]/div/div/div[2]/div/div[1]/div[2]/div/div[1]/div[2]/span[1]/span[1]\n",
    "LDS=>/html/body/div[3]/div[8]/div[9]/div/div/div[1]/div[2]/div/div[1]/div/div/div[2]/div/div[1]/div[2]/div/div[1]/div[2]/span[1]/span[1]\n",
    "rand=>/html/body/div[3]/div[8]/div[9]/div/div/div[1]/div[2]/div/div[1]/div/div/div[2]/div/div[1]/div[2]/div/div[1]/div[2]/span[1]/span[1]\n",
    "bouddha=>/html/body/div[3]/div[8]/div[9]/div/div/div[1]/div[2]/div/div[1]/div/div/div[2]/div/div[1]/div[2]/div/div[1]/div[2]/span[1]/span[1]\n",
    "garden_of_dreams=>/html/body/div[3]/div[8]/div[9]/div/div/div[1]/div[2]/div/div[1]/div/div/div[2]/div/div[1]/div[2]/div/div[1]/div[2]/span[1]/span[1]"
   ]
  },
  {
   "cell_type": "code",
   "execution_count": 17,
   "id": "b85a15e0",
   "metadata": {},
   "outputs": [
    {
     "name": "stdout",
     "output_type": "stream",
     "text": [
      "Pashupatinath Temple\n"
     ]
    }
   ],
   "source": [
    "#make a list of location column of our dataset and using loop to scrape the ratings\n",
    "import pandas as pd\n",
    "df = pd.read_csv('POI_data.csv')\n",
    "print(df.locations[0])"
   ]
  },
  {
   "cell_type": "code",
   "execution_count": 19,
   "id": "2223d13f",
   "metadata": {},
   "outputs": [
    {
     "name": "stdout",
     "output_type": "stream",
     "text": [
      "Pashupatinath Temple\n",
      "4.7\n",
      "(35,199)\n",
      "Boudhanath (Stupa)\n",
      "4.7\n",
      "(14,859)\n",
      "Swayambhunath Stupa\n",
      "4.6\n",
      "(16,050)\n",
      "Thamel\n",
      "None\n",
      "None\n",
      "Kopan Monastery\n",
      "4.3\n",
      "(1,134)\n",
      "Garden of Dreams\n",
      "4.2\n",
      "(11,311)\n",
      "Durbar Square Kathmandu\n",
      "4.5\n",
      "(32,116)\n",
      "Hanuman Dhoka Temple\n",
      "4.5\n",
      "(1,052)\n",
      "Kumari House\n",
      "4.5\n",
      "(371)\n",
      "Buddha Nilkanth\n",
      "4.5\n",
      "(55)\n",
      "Narayanhiti Palace\n",
      "4.4\n",
      "(4,621)\n",
      "Indra Chowk\n",
      "None\n",
      "None\n",
      "Jagannath Temple\n",
      "4.6\n",
      "(77)\n",
      "Freak Street\n",
      "4.1\n",
      "26 reviews\n",
      "Kasthamandap\n",
      "4.6\n",
      "(881)\n",
      "Asan\n",
      "4.2\n",
      "(5,198)\n",
      "Taudaha Lake\n",
      "4.3\n",
      "(776)\n",
      "Kathesimbhu Stupa\n",
      "None\n",
      "None\n",
      "Dakshinkali Temple\n",
      "4.6\n",
      "(4,194)\n",
      "National Museum of Nepal\n",
      "4.2\n",
      "(1,157)\n",
      "White Monastery\n",
      "None\n",
      "None\n",
      "Bajrayogini Temple\n",
      "4.6\n",
      "(564)\n",
      "Royal Botanical Gardens\n",
      "4.3\n",
      "(4,615)\n",
      "Seto Machindranath Temple\n",
      "4.6\n",
      "(1,246)\n",
      "Tribhuvan Museum\n",
      "None\n",
      "None\n",
      "Casino Royale\n",
      "None\n",
      "None\n",
      "Rani Pokhari\n",
      "4.4\n",
      "(462)\n",
      "Ratna Park\n",
      "3.9\n",
      "(14,927)\n",
      "Babar Mahal\n",
      "None\n",
      "None\n",
      "Singha Durbar\n",
      "4.3\n",
      "(504)\n",
      "Basantapur Tower\n",
      "None\n",
      "None\n",
      "Ashok Binayak\n",
      "4.6\n",
      "(546)\n",
      "Pilgrims Book House\n",
      "4.6\n",
      "(997)\n",
      "Shechen Monastery\n",
      "4.6\n",
      "(358)\n",
      "Khawalung Monastery\n",
      "None\n",
      "None\n",
      "Patan Durbar Square\n",
      "4.6\n",
      "(27,404)\n",
      "Nagarkot\n",
      "None\n",
      "None\n",
      "Chandragiri\n",
      "None\n",
      "None\n",
      "Shivapuri Nagarjun National Park\n",
      "None\n",
      "(5,497)\n",
      "Langtang National Park\n",
      "4.6\n",
      "(1,859)\n",
      "Bhaktapur\n",
      "None\n",
      "None\n",
      "Chisapani\n",
      "None\n",
      "None\n",
      "Dhulikhel\n",
      "None\n",
      "None\n",
      "Kirtipur\n",
      "None\n",
      "None\n",
      "Phulchoki\n",
      "4.4\n",
      "(298)\n",
      "Kulekhani\n",
      "None\n",
      "None\n",
      "Lakuri Bhanjyang\n",
      "None\n",
      "None\n",
      "Namo Buddha\n",
      "None\n",
      "None\n",
      "Kakani\n",
      "None\n",
      "None\n",
      "Helambu\n",
      "None\n",
      "None\n",
      "Jump KTM\n",
      "4.0\n",
      "(616)\n",
      "Art in Paradise Nepal\n",
      "3.7\n",
      "(62)\n",
      "Whoopee Land\n",
      "4.1\n",
      "(2,608)\n",
      "Astrek Park\n",
      "4.3\n",
      "(197)\n",
      "Kathmandu Sports Climbing Centre\n",
      "4.5\n",
      "(245)\n",
      "House of Palettes\n",
      "4.5\n",
      "(62)\n",
      "Kathmandu Fun Park\n",
      "4.0\n",
      "(3,679)\n",
      "Outdoor Adventure Centre Nepal\n",
      "4.4\n",
      "(91)\n"
     ]
    }
   ],
   "source": [
    "#to scrape the ratings and rating_counts\n",
    "rate_list = []\n",
    "rating_counts_list = []\n",
    "for destination in df.locations:\n",
    "    print(destination)\n",
    "    input_field(destination)\n",
    "    search_button()\n",
    "    # to see rate and counts\n",
    "    rate = find_ratings()\n",
    "    print(rate)\n",
    "    counts = find_rating_counts()\n",
    "    print(counts)\n",
    "    #appending to the list\n",
    "    rate_list.append(rate)\n",
    "    rating_counts_list.append(counts)\n",
    "    cancel_button()"
   ]
  },
  {
   "cell_type": "code",
   "execution_count": 29,
   "id": "3f2cb761",
   "metadata": {},
   "outputs": [
    {
     "name": "stdout",
     "output_type": "stream",
     "text": [
      "['4.7', '4.7', '4.6', None, '4.3', '4.2', '4.5', '4.5', '4.5', '4.5', '4.4', None, '4.6', '4.1', '4.6', '4.2', '4.3', None, '4.6', '4.2', None, '4.6', '4.3', '4.6', None, None, '4.4', '3.9', None, '4.3', None, '4.6', '4.6', '4.6', None, '4.6', None, None, '4.4', '4.6', None, None, None, None, '4.4', None, None, None, None, None, '4.0', '3.7', '4.1', '4.3', '4.5', '4.5', '4.0', '4.4']\n",
      "['(35,199)', '(14,859)', '(16,050)', None, '(1,134)', '(11,311)', '(32,116)', '(1,052)', '(371)', '(55)', '(4,621)', None, '(77)', '26 reviews', '(881)', '(5,198)', '(776)', None, '(4,194)', '(1,157)', None, '(564)', '(4,615)', '(1,246)', None, None, '(462)', '(14,927)', None, '(504)', None, '(546)', '(997)', '(358)', None, '(27,404)', None, None, '(5,497)', '(1,859)', None, None, None, None, '(298)', None, None, None, None, None, '(616)', '(62)', '(2,608)', '(197)', '(245)', '(62)', '(3,679)', '(91)']\n"
     ]
    }
   ],
   "source": [
    "print(rate_list)\n",
    "print(rating_counts_list)"
   ]
  },
  {
   "cell_type": "code",
   "execution_count": 30,
   "id": "6ef8bf5a",
   "metadata": {},
   "outputs": [],
   "source": [
    "no_rate = []\n",
    "for index,rate in enumerate(rate_list):\n",
    "    if rate is None:\n",
    "        no_rate.append(df.locations[index])"
   ]
  },
  {
   "cell_type": "code",
   "execution_count": 32,
   "id": "8a1fe619",
   "metadata": {},
   "outputs": [
    {
     "name": "stdout",
     "output_type": "stream",
     "text": [
      "['Thamel', 'Indra Chowk', 'Kathesimbhu Stupa', 'White Monastery', 'Tribhuvan Museum', 'Casino Royale', 'Babar Mahal', 'Basantapur Tower', 'Khawalung Monastery', 'Nagarkot', 'Chandragiri', 'Bhaktapur', 'Chisapani', 'Dhulikhel', 'Kirtipur', 'Kulekhani', 'Lakuri Bhanjyang', 'Namo Buddha', 'Kakani', 'Helambu']\n"
     ]
    }
   ],
   "source": [
    "print(no_rate)#no ratings found on google maps"
   ]
  },
  {
   "cell_type": "code",
   "execution_count": 33,
   "id": "3fe3d31b",
   "metadata": {},
   "outputs": [],
   "source": [
    "#storing rating and rating_counts on existing POI_data.csv i.e. manipulating data\n",
    "df['Rate'] = rate_list\n",
    "df['Rate_counts'] = rating_counts_list"
   ]
  },
  {
   "cell_type": "code",
   "execution_count": 34,
   "id": "78202a98",
   "metadata": {},
   "outputs": [],
   "source": [
    "df.to_csv('POI_data.csv')"
   ]
  }
 ],
 "metadata": {
  "kernelspec": {
   "display_name": "Python 3 (ipykernel)",
   "language": "python",
   "name": "python3"
  },
  "language_info": {
   "codemirror_mode": {
    "name": "ipython",
    "version": 3
   },
   "file_extension": ".py",
   "mimetype": "text/x-python",
   "name": "python",
   "nbconvert_exporter": "python",
   "pygments_lexer": "ipython3",
   "version": "3.10.4"
  }
 },
 "nbformat": 4,
 "nbformat_minor": 5
}
